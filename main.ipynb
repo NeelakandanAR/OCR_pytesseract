{
 "cells": [
  {
   "cell_type": "code",
   "execution_count": null,
   "id": "6267401f",
   "metadata": {},
   "outputs": [],
   "source": [
    "# pip install tesseract-ocr\n"
   ]
  },
  {
   "cell_type": "code",
   "execution_count": null,
   "id": "a7195a0b",
   "metadata": {},
   "outputs": [],
   "source": [
    "# pip install PyPDF2 pandas\n"
   ]
  },
  {
   "cell_type": "code",
   "execution_count": null,
   "id": "4b88aa08",
   "metadata": {},
   "outputs": [],
   "source": [
    "# pip install fitz"
   ]
  },
  {
   "cell_type": "code",
   "execution_count": null,
   "id": "44843eef",
   "metadata": {},
   "outputs": [],
   "source": [
    "# pip install frontend\n"
   ]
  },
  {
   "cell_type": "code",
   "execution_count": null,
   "id": "398526b3",
   "metadata": {},
   "outputs": [],
   "source": [
    "# pip install PyMuPDF"
   ]
  },
  {
   "cell_type": "code",
   "execution_count": null,
   "id": "ca81b53d",
   "metadata": {},
   "outputs": [],
   "source": [
    "# pip install pytesseract"
   ]
  },
  {
   "cell_type": "code",
   "execution_count": null,
   "id": "e9841063",
   "metadata": {},
   "outputs": [],
   "source": [
    "pip install pyspellchecker\n"
   ]
  },
  {
   "cell_type": "code",
   "execution_count": 1,
   "id": "f54ac01c",
   "metadata": {},
   "outputs": [],
   "source": [
    "import PyPDF2\n",
    "import re\n",
    "import pandas as pd\n",
    "import fitz\n",
    "from pdf2image import convert_from_path\n",
    "import pytesseract\n",
    "import numpy as np \n",
    "import cv2 \n",
    "from PIL import Image\n",
    "import re\n",
    "import time\n",
    "import cv2 \n",
    "from PIL import Image\n",
    "import numpy as np\n",
    "import time"
   ]
  },
  {
   "cell_type": "code",
   "execution_count": 32,
   "id": "1a8047f1",
   "metadata": {},
   "outputs": [],
   "source": [
    "file_path = r\"C:\\Users\\Lenovo\\Desktop\\Adams\\Traditional_Redacted_APS.pdf\""
   ]
  },
  {
   "cell_type": "code",
   "execution_count": 31,
   "id": "fb62f9ae",
   "metadata": {},
   "outputs": [],
   "source": [
    "import os\n",
    "import cv2\n",
    "import pytesseract\n",
    "from pdf2image import convert_from_path\n",
    "from PIL import Image\n",
    "\n",
    "def extract_text_from_pdf(pdf_path):\n",
    "    # Convert PDF to image\n",
    "    pages = convert_from_path(pdf_path, poppler_path=r'C:\\poppler-0.68.0\\bin')\n",
    "    start_time = time.time()\n",
    "    # Loop through pages\n",
    "    for i, page in enumerate(pages):\n",
    "        # Save the image as a file\n",
    "        page_path = f\"page_{i+1}.jpg\"\n",
    "        page.save(page_path, 'JPEG')\n",
    "\n",
    "        # Preprocess the image\n",
    "        img = cv2.imread(page_path)\n",
    "        gray = cv2.cvtColor(img, cv2.COLOR_BGR2GRAY)\n",
    "        gray = cv2.medianBlur(gray, 3)\n",
    "        gray = cv2.threshold(gray, 0, 255, cv2.THRESH_BINARY + cv2.THRESH_OTSU)[1]\n",
    "        \n",
    "        # Save the preprocessed image\n",
    "        preprocessed_path = f\"preprocessed_{i+1}.jpg\"\n",
    "        cv2.imwrite(preprocessed_path, gray)\n",
    "\n",
    "        # Load the preprocessed image and extract the text\n",
    "        pytesseract.pytesseract.tesseract_cmd = r\"C:\\Program Files\\Tesseract-OCR\\tesseract.exe\"\n",
    "        img = Image.open(preprocessed_path)\n",
    "        text = pytesseract.image_to_string(img, lang='eng')\n",
    "\n",
    "        # Save the text to a file\n",
    "        text_path = f\"page_{i+1}.txt\"\n",
    "        with open(text_path, \"w\", encoding=\"utf-8\") as f:\n",
    "            f.write(text)\n",
    "        \n",
    "        # Remove the image files\n",
    "        os.remove(page_path)\n",
    "        os.remove(preprocessed_path)\n",
    "        \n",
    "    print(\"Text extraction complete.\")\n",
    "    end_time = time.time()\n",
    "\n",
    "    elapsed_time = end_time - start_time\n",
    "\n",
    "    print(\"Elapsed time: {:.2f} seconds\".format(elapsed_time))\n"
   ]
  },
  {
   "cell_type": "code",
   "execution_count": 36,
   "id": "b33d0a59",
   "metadata": {},
   "outputs": [],
   "source": [
    "import os\n",
    "import cv2\n",
    "import pytesseract\n",
    "from pdf2image import convert_from_path\n",
    "from PIL import Image\n",
    "\n",
    "def extract_text_from_pdf(pdf_path):\n",
    "    # Create the \"output\" folder if it doesn't exist\n",
    "    if not os.path.exists(\"output\"):\n",
    "        os.mkdir(\"output\")\n",
    "\n",
    "    # Empty the \"output\" folder before every run\n",
    "    for file in os.listdir(\"output\"):\n",
    "        file_path = os.path.join(\"output\", file)\n",
    "        if os.path.isfile(file_path):\n",
    "            os.remove(file_path)\n",
    "\n",
    "    # Convert PDF to image\n",
    "    pages = convert_from_path(pdf_path, poppler_path=r'C:\\poppler-0.68.0\\bin')\n",
    "    start_time = time.time()\n",
    "    # Loop through pages\n",
    "    for i, page in enumerate(pages):\n",
    "        # Save the image as a file\n",
    "        page_path = f\"page_{i+1}.jpg\"\n",
    "        page.save(page_path, 'JPEG')\n",
    "\n",
    "        # Preprocess the image\n",
    "        img = cv2.imread(page_path)\n",
    "        gray = cv2.cvtColor(img, cv2.COLOR_BGR2GRAY)\n",
    "        gray = cv2.medianBlur(gray, 3)\n",
    "        gray = cv2.threshold(gray, 0, 255, cv2.THRESH_BINARY + cv2.THRESH_OTSU)[1]\n",
    "        \n",
    "        # Save the preprocessed image\n",
    "        preprocessed_path = f\"preprocessed_{i+1}.jpg\"\n",
    "        cv2.imwrite(preprocessed_path, gray)\n",
    "\n",
    "        # Load the preprocessed image and extract the text\n",
    "        pytesseract.pytesseract.tesseract_cmd = r\"C:\\Program Files\\Tesseract-OCR\\tesseract.exe\"\n",
    "        img = Image.open(preprocessed_path)\n",
    "        text = pytesseract.image_to_string(img, lang='eng')\n",
    "\n",
    "        # Save the text to a file in the \"output\" folder\n",
    "        text_path = os.path.join(\"output\", f\"page_{i+1}.txt\")\n",
    "        with open(text_path, \"w\", encoding=\"utf-8\") as f:\n",
    "            f.write(text)\n",
    "        \n",
    "        # Remove the image files\n",
    "        os.remove(page_path)\n",
    "        os.remove(preprocessed_path)\n",
    "        \n",
    "    print(\"Text extraction complete.\")\n",
    "    end_time = time.time()\n",
    "\n",
    "    elapsed_time = end_time - start_time\n",
    "\n",
    "    print(\"Elapsed time: {:.2f} seconds\".format(elapsed_time))\n"
   ]
  },
  {
   "cell_type": "code",
   "execution_count": 37,
   "id": "ea99d189",
   "metadata": {},
   "outputs": [
    {
     "name": "stdout",
     "output_type": "stream",
     "text": [
      "Text extraction complete.\n",
      "Elapsed time: 876.84 seconds\n"
     ]
    }
   ],
   "source": [
    "extract_text_from_pdf(file_path)"
   ]
  },
  {
   "cell_type": "code",
   "execution_count": null,
   "id": "977fbea4",
   "metadata": {},
   "outputs": [],
   "source": []
  }
 ],
 "metadata": {
  "kernelspec": {
   "display_name": "Python 3 (ipykernel)",
   "language": "python",
   "name": "python3"
  },
  "language_info": {
   "codemirror_mode": {
    "name": "ipython",
    "version": 3
   },
   "file_extension": ".py",
   "mimetype": "text/x-python",
   "name": "python",
   "nbconvert_exporter": "python",
   "pygments_lexer": "ipython3",
   "version": "3.9.13"
  }
 },
 "nbformat": 4,
 "nbformat_minor": 5
}
